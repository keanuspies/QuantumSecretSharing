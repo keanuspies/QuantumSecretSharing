{
 "cells": [
  {
   "cell_type": "markdown",
   "metadata": {},
   "source": [
    "## Quantum Secret Sharing\n",
    "### Keanu Spies\n",
    "In this notebook we show our work in defining a quantum secret sharing protocol on an arbitrary number of qubits. We follow the work shown by Hillery et al. in their paper \"Quantum Secret Sharing\""
   ]
  },
  {
   "cell_type": "code",
   "execution_count": 1,
   "metadata": {},
   "outputs": [],
   "source": [
    "from pyquil import get_qc\n",
    "from pyquil.quil import Program, address_qubits\n",
    "from pyquil.api import QVMConnection\n",
    "from pyquil.quilatom import QubitPlaceholder\n",
    "from pyquil.gates import *\n",
    "from pyquil.noise import (estimate_bitstring_probs, correct_bitstring_probs,\n",
    "                          bitstring_probs_to_z_moments, estimate_assignment_probs)\n",
    "import matplotlib.pyplot as plt\n",
    "from plotquil import *\n",
    "import numpy as np\n",
    "import random\n",
    "from shor_code import shor"
   ]
  },
  {
   "cell_type": "code",
   "execution_count": 2,
   "metadata": {},
   "outputs": [],
   "source": [
    "qvm = QVMConnection()"
   ]
  },
  {
   "cell_type": "markdown",
   "metadata": {},
   "source": [
    "# Sharing a single qubit secret"
   ]
  },
  {
   "cell_type": "markdown",
   "metadata": {},
   "source": [
    "### Part 1.1 GHZ state\n",
    "First we will show secret sharing of a single qubit between three parties. To do so we will first create a maximally entangle 3 qubit (GHZ) state. Consider these qubits as Alice: 0, Bob: 1, Charlie: 2"
   ]
  },
  {
   "cell_type": "code",
   "execution_count": 3,
   "metadata": {},
   "outputs": [],
   "source": [
    "ghz = {'alice': 0,\n",
    "       'bob' : 1,\n",
    "       'charlie' : 2\n",
    "      }"
   ]
  },
  {
   "cell_type": "code",
   "execution_count": 4,
   "metadata": {},
   "outputs": [],
   "source": [
    "def entangle(pq, ghz, name='alice'):\n",
    "    # create map of qubits\n",
    "    if name != 'charlie': pq += H(ghz[name])\n",
    "    if name == 'alice': pq += CNOT(ghz['alice'], ghz['bob'])\n",
    "    if name != 'charlie': pq += CNOT(ghz[name], ghz['charlie'])\n",
    "    return pq\n",
    "\n",
    "def unentangle(pq, ghz, name='alice'):\n",
    "    # create map of qubits\n",
    "    if name != 'charlie': pq += CNOT(ghz['charlie'], ghz[name])\n",
    "    if name == 'alice': pq += CNOT(ghz['bob'], ghz['alice'])\n",
    "    if name != 'charlie': pq += H(ghz[name])\n",
    "    return pq"
   ]
  },
  {
   "cell_type": "code",
   "execution_count": 5,
   "metadata": {},
   "outputs": [],
   "source": [
    "def measurefor(person, direction, currpq, ro, ghz):\n",
    "    currpq = entangle(currpq, ghz, name=person)\n",
    "    currpq += direction(ghz[person])\n",
    "    currpq = unentangle(currpq, ghz, name=person)\n",
    "    currpq += MEASURE(ghz[person], ro)\n",
    "    return currpq"
   ]
  },
  {
   "cell_type": "code",
   "execution_count": 6,
   "metadata": {},
   "outputs": [
    {
     "data": {
      "image/png": "[encoded data removed]",
      "text/plain": [
       "<matplotlib.figure.Figure at 0x10aafbcc0>"
      ]
     },
     "metadata": {
      "needs_background": "light"
     },
     "output_type": "display_data"
    }
   ],
   "source": [
    "pq = Program()\n",
    "pq = entangle(pq, ghz)\n",
    "wf = qvm.wavefunction(pq)\n",
    "plot_wf(wf)"
   ]
  },
  {
   "cell_type": "markdown",
   "metadata": {},
   "source": [
    "Now since we have a maximally entangled state between the three parties we can begin the secret sharing. "
   ]
  },
  {
   "cell_type": "markdown",
   "metadata": {},
   "source": [
    "### Part 1.2 Secret Protocol\n",
    "\n",
    "Quantum secret sharing works under the above GHZ state. Assume that Alice is the party sharing the secret to Bob and Charlie. In order for Bob and Charlie to uncover exactly which qubit alice sent with certainty they will both need to do the reading and communicate with Alice under which Basis to do the reading. This works becase we can expand the GHZ state into the following: \n",
    "\n",
    "$$\\begin{align}|\\psi_i \\rangle  &= \\frac{1}{2\\sqrt{2}} \\bigg[(|+ x\\rangle_a |+x \\rangle_b + | − x\\rangle_a |−x\\rangle_b)(|0\\rangle_c + |1\\rangle_c)\\\\ &+(| + x\\rangle_a| − x\\rangle_b + | − x\\rangle_a| + x\\rangle_b)(|0\\rangle_c − |1\\rangle_c)\\bigg] .\\end{align} $$\n",
    "\n",
    "Meaning that Charlie is able to tell whether Alice and Bob made their readings along the same basis ($\\pm$x) or not but has no way of knowing what their readings were precisely (Hillery et all 1998). This is however reqiures that Charlie do his reading in the same direction that Alice and Bob did their readings (i.e. x direction) in order to determine if Alice and Bob's readings were correlated or anti-correlated. Similarly Bob needs Charlie in order to determine if his reading is the same or different to Alices. \n",
    "\n",
    "Thus the three parties should all perform their reading in the same direction which should be announced beforehand. This should happen as follows (according to Hillery et al.): Charlie and Bob each measure in the same direction and send their direction to Alice, who measures in a specific direction and sends all three directions to Bob and Charlie. "
   ]
  },
  {
   "cell_type": "markdown",
   "metadata": {},
   "source": [
    "Below I will present the table of reading results from this system that was presented in Hillerey et al. Where columns represent Alices readings row's represent Bobs and values inside the cells are Charlies readings.\n",
    "\n",
    "|-                | \\|+x$\\rangle$              | \\|-x$\\rangle$               | \\|+y$\\rangle$               | \\|-y$\\rangle$               |\n",
    "|----------------|------------------------------|------------------------------|------------------------------|------------------------------|\n",
    "| **\\|+x$\\rangle$** | \\|0$\\rangle$ + \\|1$\\rangle$  | \\|0$\\rangle$ - \\|1$\\rangle$  | \\|0$\\rangle$ - i\\|1$\\rangle$ | \\|0$\\rangle$ + i\\|1$\\rangle$ |\n",
    "| **\\|-x$\\rangle$** | \\|0$\\rangle$ - \\|1$\\rangle$  | \\|0$\\rangle$ + \\|1$\\rangle$  | \\|0$\\rangle$ + i\\|1$\\rangle$ | \\|0$\\rangle$ - i\\|1$\\rangle$ |\n",
    "| **\\|+y$\\rangle$** | \\|0$\\rangle$ - i\\|1$\\rangle$ | \\|0$\\rangle$ + i\\|1$\\rangle$ | \\|0$\\rangle$ - \\|1$\\rangle$  | \\|0$\\rangle$ + \\|1$\\rangle$  |\n",
    "| **\\|-y$\\rangle$** | \\|0$\\rangle$ + i\\|1$\\rangle$ | \\|0$\\rangle$ - i\\|1$\\rangle$ | \\|0$\\rangle$ + \\|1$\\rangle$  | \\|0$\\rangle$ - \\|1$\\rangle$  |"
   ]
  },
  {
   "cell_type": "markdown",
   "metadata": {},
   "source": [
    " ### Part 1.2.1 Protecting against evesdropping\n",
    " \n",
    " First I will concretely show how this method protects against evesdropping. Assume that Bob has malicious intent and steals Charlies qubit and attempts to uncover Alices infomation. \n",
    " \n",
    " Consider that Alice chose to measure in the y direction."
   ]
  },
  {
   "cell_type": "markdown",
   "metadata": {},
   "source": [
    "Now Bob will choose to measure either in a correlated or uncorrelated fashion (i.e. read his and Charlies qubit in either the same of different directions).\n",
    "\n",
    "**Part 1**: Reading in the incorrect manner <br>\n",
    "Since Alice measured in the Y direction, Bob and Charlie need to measure in an anticorrelated way in order to determine what Alice's qubit state is. Consider when Bob measures in a correlated (the incorrect) fashion. "
   ]
  },
  {
   "cell_type": "code",
   "execution_count": 7,
   "metadata": {},
   "outputs": [
    {
     "name": "stdout",
     "output_type": "stream",
     "text": [
      "[[1, 1, 1]]\n"
     ]
    }
   ],
   "source": [
    "pq = Program()\n",
    "ro = pq.declare('ro', 'BIT', 3)\n",
    "pq = measurefor('alice', Y, pq, ro[0], ghz)\n",
    "pq = measurefor('bob', X, pq, ro[1], ghz)\n",
    "pq = measurefor('charlie', X, pq, ro[2], ghz)\n",
    "result = qvm.run(pq)\n",
    "print(result)"
   ]
  },
  {
   "cell_type": "markdown",
   "metadata": {},
   "source": [
    "We see that Alice read $|-y\\rangle$, Bob read $|-x\\rangle$ from his own qubit and $|-x\\rangle$ from Charlie's qubit. But we can see that Bob lost the information from Charlie's qubit since he should have read $|-y\\rangle$ from Charlie's qubit but he measured in the wrong fashion. With this in-correct measurement Bob would assume that alice would have read $|+x\\rangle$ and would produce the wrong key with Alice. "
   ]
  },
  {
   "cell_type": "markdown",
   "metadata": {},
   "source": [
    "**Part 2**: Reading in the correct manner<br>\n",
    "Next Consider when he measures in the correct (anti-correlated way). "
   ]
  },
  {
   "cell_type": "code",
   "execution_count": 8,
   "metadata": {},
   "outputs": [
    {
     "name": "stdout",
     "output_type": "stream",
     "text": [
      "[[0, 0, 1]]\n"
     ]
    }
   ],
   "source": [
    "pq = Program()\n",
    "ro = pq.declare('ro', 'BIT', 3)\n",
    "pq = measurefor('alice', Y, pq, ro[0], ghz)\n",
    "pq = measurefor('bob', X, pq, ro[1], ghz)\n",
    "pq = measurefor('charlie', Y, pq, ro[2], ghz)\n",
    "result = qvm.run(pq)\n",
    "print(result)"
   ]
  },
  {
   "cell_type": "code",
   "execution_count": 9,
   "metadata": {},
   "outputs": [
    {
     "name": "stdout",
     "output_type": "stream",
     "text": [
      "DECLARE ro BIT[3]\n",
      "H 0\n",
      "CNOT 0 1\n",
      "CNOT 0 2\n",
      "Y 0\n",
      "CNOT 2 0\n",
      "CNOT 1 0\n",
      "H 0\n",
      "MEASURE 0 ro[0]\n",
      "H 1\n",
      "CNOT 1 2\n",
      "X 1\n",
      "CNOT 2 1\n",
      "H 1\n",
      "MEASURE 1 ro[1]\n",
      "Y 2\n",
      "MEASURE 2 ro[2]\n",
      "\n"
     ]
    }
   ],
   "source": [
    "print(pq)"
   ]
  },
  {
   "cell_type": "markdown",
   "metadata": {},
   "source": [
    "We see that Alice read  |+y⟩ , Bob read  |+𝑥⟩  from his own qubit and  |-y⟩  from Charlie's qubit. This is the expected result, meaning that Bob would correctly be able to recreate alices qubit."
   ]
  },
  {
   "cell_type": "markdown",
   "metadata": {},
   "source": [
    "## Creating a secret key\n",
    "\n",
    "Next we need to show how to create a secret key between the parties to allow for a encrypted exchange. Assume we want to have an 8 bit key. \n",
    "\n",
    "To do this we need to use 8 GHZ states to share the secret since each bit will need to be decoded with the collective work of Bob and Charlie in order to find Alices bit. "
   ]
  },
  {
   "cell_type": "code",
   "execution_count": 10,
   "metadata": {},
   "outputs": [],
   "source": [
    "# each person will define their measurement\n",
    "# this function also takes in the ghz state as well as what vm to use \n",
    "# (this is mainly for error codes later in the project)\n",
    "def one_bit_measurement(alice_dir, bob_dir, charlie_dir, ghz, vm):\n",
    "    pq = Program()\n",
    "    ro = pq.declare('ro', 'BIT', 3)\n",
    "    pq = measurefor('alice', alice_dir, pq, ro[0], ghz)\n",
    "    pq = measurefor('bob', bob_dir, pq, ro[1], ghz)\n",
    "    pq = measurefor('charlie', charlie_dir, pq, ro[2], ghz)\n",
    "    result = vm.run(address_qubits(pq))\n",
    "    return result"
   ]
  },
  {
   "cell_type": "code",
   "execution_count": 11,
   "metadata": {},
   "outputs": [],
   "source": [
    "def create_secret_key(num_bits, ghz, vm=qvm):\n",
    "    alice_out = []\n",
    "    bob_out = []\n",
    "    charlie_out = []\n",
    "    for i in range(num_bits):\n",
    "        alice_offset = 0\n",
    "        bob_offset = 0\n",
    "        charlie_offset = 0\n",
    "        # bob and charlie choose their directions to measure\n",
    "        bob_dir = random.choice([X, Y])\n",
    "        if bob_dir == Y: bob_offset = 2\n",
    "        charlie_dir = random.choice([X, Y])\n",
    "        if charlie_dir == Y: charlie_offset = 2\n",
    "        # they send their directions to alice\n",
    "        # she chooses X if bob and charlie has the same dir\n",
    "        # or Y if they had opposite\n",
    "        if bob_dir == charlie_dir: \n",
    "            alice_dir = X\n",
    "        else: \n",
    "            alice_dir = Y\n",
    "            alice_offset = 2\n",
    "        # measure for all parties. \n",
    "        ro = one_bit_measurement(alice_dir, bob_dir, charlie_dir, ghz, vm)\n",
    "        alice_out.append(ro[0][0] + alice_offset)\n",
    "        bob_out.append(ro[0][1] + bob_offset)\n",
    "        charlie_out.append(ro[0][2] + charlie_offset)\n",
    "    return alice_out, bob_out, charlie_out"
   ]
  },
  {
   "cell_type": "markdown",
   "metadata": {},
   "source": [
    "In order to reconstruct the key, Bob and Charlie need to work together to know what Alice would have read, once this key has been established they can share their secret"
   ]
  },
  {
   "cell_type": "code",
   "execution_count": 12,
   "metadata": {},
   "outputs": [],
   "source": [
    "reconstruction_map = {\n",
    "        # X X\n",
    "        (0, 0): 0, (0, 1): 1, (1, 0): 1, (1, 1): 0,\n",
    "        # Y Y \n",
    "        (2, 2): 1, (2, 3): 0, (3, 2): 0, (3, 3): 1, \n",
    "        # X Y\n",
    "        (0, 2): 3, (0, 3): 2, (1, 2): 2, (1, 3): 3,\n",
    "        # Y X\n",
    "        (2, 0): 2, (2, 1): 3,(3, 0): 3,(3, 1): 2\n",
    "    }"
   ]
  },
  {
   "cell_type": "code",
   "execution_count": 13,
   "metadata": {},
   "outputs": [],
   "source": [
    "def reconstruct(alice_out, bob_out, charlie_out):\n",
    "    reconstructed = []\n",
    "    for i in range(len(bob_out)):\n",
    "        reconstructed.append(reconstruction_map[(bob_out[i], charlie_out[i])])\n",
    "    return reconstructed"
   ]
  },
  {
   "cell_type": "code",
   "execution_count": 14,
   "metadata": {},
   "outputs": [
    {
     "name": "stdout",
     "output_type": "stream",
     "text": [
      "[2, 2, 0, 0, 3, 3, 1, 1]\n",
      "[2, 2, 0, 0, 3, 3, 1, 1]\n"
     ]
    }
   ],
   "source": [
    "alice_out, bob_out, charlie_out = create_secret_key(8, ghz)\n",
    "reconstructed = reconstruct(alice_out, bob_out, charlie_out)\n",
    "print(alice_out)\n",
    "print(reconstructed)"
   ]
  },
  {
   "cell_type": "code",
   "execution_count": 15,
   "metadata": {},
   "outputs": [
    {
     "name": "stdout",
     "output_type": "stream",
     "text": [
      "Percentage correct key between parties =  100 %\n"
     ]
    }
   ],
   "source": [
    "## share a secret many times to determine if the system is consistent.\n",
    "correct = 0\n",
    "for i in range(100):\n",
    "    alice_out, bob_out, charlie_out = create_secret_key(8, ghz)\n",
    "    reconstructed = reconstruct(alice_out, bob_out, charlie_out)\n",
    "    if alice_out == reconstructed:\n",
    "        correct += 1\n",
    "print('Percentage correct key between parties = ', correct, '%')"
   ]
  },
  {
   "cell_type": "markdown",
   "metadata": {},
   "source": [
    "As we can see, the key has been reconstructed correctly between the parties."
   ]
  },
  {
   "cell_type": "code",
   "execution_count": 16,
   "metadata": {},
   "outputs": [],
   "source": [
    "# TODO: explore the XOR feature more etc."
   ]
  },
  {
   "cell_type": "markdown",
   "metadata": {},
   "source": [
    "## Part 2. Sharing with Noise"
   ]
  },
  {
   "cell_type": "markdown",
   "metadata": {},
   "source": [
    "### Part 2.1 Readot Noise\n",
    "First we will consider when the GHZ state has noisy readout decay associated with it and a method to combat the decay. From the pyquil docuumentation we see that we can model the decay/errors in a GHZ state as follows:"
   ]
  },
  {
   "cell_type": "code",
   "execution_count": 17,
   "metadata": {},
   "outputs": [
    {
     "name": "stderr",
     "output_type": "stream",
     "text": [
      "/usr/local/lib/python3.6/site-packages/pyquil/gates.py:490: UserWarning: Indexing measurement addresses by integers is deprecated. Replacing this with the MemoryReference ro[i] instead.\n",
      "  + \"Replacing this with the MemoryReference ro[i] instead.\")\n",
      "/usr/local/lib/python3.6/site-packages/pyquil/quil.py:902: UserWarning: Please DECLARE all memory. I'm adding a declaration for the `ro` register, but I won't do this for you in the future.\n",
      "  warnings.warn(\"Please DECLARE all memory. I'm adding a declaration for the `ro` register, \"\n"
     ]
    }
   ],
   "source": [
    "# for noise simulation \n",
    "header0 = Program().define_noisy_readout(0, .85, .95)\n",
    "header1 = Program().define_noisy_readout(1, .8, .9)\n",
    "header2 = Program().define_noisy_readout(2, .9, .85)\n",
    "\n",
    "# for noise correction  \n",
    "ap0 = estimate_assignment_probs(0, 100000, qvm, header0)\n",
    "ap1 = estimate_assignment_probs(1, 100000, qvm, header1)\n",
    "ap2 = estimate_assignment_probs(2, 100000, qvm, header2)\n",
    "\n",
    "# creating a GHZ state and using noise in the measurement.\n",
    "ghz_prog = Program()\n",
    "ro = ghz_prog.declare('ro', 'BIT', 3)\n",
    "ghz_prog += Program(H(0), CNOT(0, 1), CNOT(1, 2),\n",
    "                   MEASURE(0, 0), MEASURE(1, 1), MEASURE(2, 2))\n",
    "\n",
    "header = header0 + header1 + header2\n",
    "noisy_ghz = header + ghz_prog"
   ]
  },
  {
   "cell_type": "markdown",
   "metadata": {},
   "source": [
    "Consider first the ideal non-noise case. Here the GHZ state does not decay. Here the results are the the estimated probabilities of each of values of $\\alpha$ and $\\beta$ where the state is $$\\alpha |000\\rangle + \\beta |111\\rangle$$"
   ]
  },
  {
   "cell_type": "code",
   "execution_count": 18,
   "metadata": {},
   "outputs": [
    {
     "name": "stdout",
     "output_type": "stream",
     "text": [
      "alpha^2:  0.5008 beta^2:  0.4992\n"
     ]
    }
   ],
   "source": [
    "results = qvm.run(ghz_prog, [0, 1, 2], trials=10000)\n",
    "probs = estimate_bitstring_probs(results)\n",
    "print('alpha^2: ', probs[0, 0, 0], 'beta^2: ', probs[1, 1, 1])"
   ]
  },
  {
   "cell_type": "markdown",
   "metadata": {},
   "source": [
    "Consider next the noisy case where the state might decay and we no longer have a stable GHZ pair. Note that $\\alpha$ and $\\beta$ have decayed and the state is no longer in its maximally entangled state."
   ]
  },
  {
   "cell_type": "code",
   "execution_count": 19,
   "metadata": {},
   "outputs": [
    {
     "name": "stdout",
     "output_type": "stream",
     "text": [
      "alpha^2:  0.3116 beta^2:  0.3648\n"
     ]
    }
   ],
   "source": [
    "noisy_results = qvm.run(noisy_ghz, [0, 1, 2], trials=10000)\n",
    "noisy_probs = estimate_bitstring_probs(noisy_results)\n",
    "print('alpha^2: ', noisy_probs[0, 0, 0], 'beta^2: ', noisy_probs[1, 1, 1])"
   ]
  },
  {
   "cell_type": "markdown",
   "metadata": {},
   "source": [
    "PyQuil provides an API to correct these errors, however, allowing for us to reach a state more closely related to the ideal GHZ."
   ]
  },
  {
   "cell_type": "code",
   "execution_count": 20,
   "metadata": {},
   "outputs": [
    {
     "name": "stdout",
     "output_type": "stream",
     "text": [
      "alpha^2:  0.5076359377307773 beta^2:  0.5048859936518564\n"
     ]
    }
   ],
   "source": [
    "corrected_probs = correct_bitstring_probs(noisy_probs, [ap0, ap1, ap2])\n",
    "print('alpha^2: ', corrected_probs[0, 0, 0], 'beta^2: ', corrected_probs[1, 1, 1])"
   ]
  },
  {
   "cell_type": "markdown",
   "metadata": {},
   "source": [
    "### Part 2.2 Bit and Phase flips\n",
    "Next we will consider noise that might occur over time as Alice sends Bob and Charlie their qubits after entanglement. Since the qubits are travelling a distance there is the possibility that they will experience either a bit flip or a phase flip."
   ]
  },
  {
   "cell_type": "code",
   "execution_count": 21,
   "metadata": {},
   "outputs": [],
   "source": [
    "qc = get_qc('3q-noisy-qvm')"
   ]
  },
  {
   "cell_type": "code",
   "execution_count": 22,
   "metadata": {},
   "outputs": [
    {
     "name": "stdout",
     "output_type": "stream",
     "text": [
      "Percentage correct key between parties =  27 %\n"
     ]
    }
   ],
   "source": [
    "correct = 0\n",
    "for i in range(100):\n",
    "    alice_out, bob_out, charlie_out = create_secret_key(8, ghz, qc)\n",
    "    reconstructed = reconstruct(alice_out, bob_out, charlie_out)\n",
    "    if alice_out == reconstructed:\n",
    "        correct += 1\n",
    "print('Percentage correct key between parties = ', correct, '%')"
   ]
  },
  {
   "cell_type": "markdown",
   "metadata": {},
   "source": [
    "#### Part 2.2.1 Bit Flip\n",
    "Consider the following code deried from the pyquil documentation for a bit flip"
   ]
  },
  {
   "cell_type": "code",
   "execution_count": 23,
   "metadata": {},
   "outputs": [],
   "source": [
    "def damping_channel(damp_prob=.1):\n",
    "    damping_op = np.sqrt(damp_prob) * np.array([[0, 1], [0, 0]])\n",
    "    residual_kraus = np.diag([1, np.sqrt(1-damp_prob)])\n",
    "    return [residual_kraus, damping_op]\n",
    "\n",
    "def append_kraus_to_gate(kraus_ops, g):\n",
    "    return [kj.dot(g) for kj in kraus_ops]\n",
    "\n",
    "def append_damping_to_gate(gate, damp_prob=.1):\n",
    "    return append_kraus_to_gate(damping_channel(damp_prob), gate)"
   ]
  },
  {
   "cell_type": "code",
   "execution_count": 24,
   "metadata": {},
   "outputs": [],
   "source": [
    "def simulate_noise(ghz, use_shor=False, kraus_operator=None):\n",
    "    # single step damping probability\n",
    "    damping_per_I = 0.02\n",
    "    # number of program executions\n",
    "    trials = 10000\n",
    "    dampened_encoding = []\n",
    "    results_damping = []\n",
    "    lengths = np.arange(0, 301, 10, dtype=int)\n",
    "    for jj, num_I in enumerate(lengths):\n",
    "        pq = Program()\n",
    "        ro = pq.declare('ro', 'BIT', 3)\n",
    "        \n",
    "        # 1. Alice creates the ghz state\n",
    "        pq = entangle(pq, ghz, name='alice')\n",
    "        \n",
    "        # 2. Some amount of time passes as the qubits are sent to\n",
    "        #    Bob and Charlie \n",
    "        pq.inst([I(ghz['alice']) for _ in range(num_I)])\n",
    "        pq.inst([I(ghz['bob']) for _ in range(num_I)])\n",
    "        pq.inst([I(ghz['charlie']) for _ in range(num_I)])\n",
    "        \n",
    "        # 3. Bob and charlie chose their measurement direction\n",
    "        alice_offset = bob_offset = charlie_offset = 0\n",
    "        bob_dir = random.choice([X, Y])\n",
    "        if bob_dir == Y: bob_offset = 2\n",
    "        charlie_dir = random.choice([X, Y])\n",
    "        if charlie_dir == Y: charlie_offset = 2\n",
    "            \n",
    "        # 4. They inform alice and she decides a direction based on\n",
    "        #    their parity.\n",
    "        if bob_dir == charlie_dir: alice_dir = X\n",
    "        else: \n",
    "            alice_dir = Y\n",
    "            alice_offset = 2\n",
    "            \n",
    "        # 5. They all perform their measurements. \n",
    "        pq += alice_dir(ghz['alice'])\n",
    "        pq = unentangle(pq, ghz, name='alice')\n",
    "        pq += MEASURE(ghz['alice'], ro[0])\n",
    "        pq = measurefor('bob', bob_dir, pq, ro[1], ghz)\n",
    "        pq = measurefor('charlie', charlie_dir, pq, ro[2], ghz)\n",
    "\n",
    "        # overload identity I on qc 0\n",
    "        pq.define_noisy_gate(\"I\", [ghz['alice']], append_damping_to_gate(np.eye(2), damping_per_I))\n",
    "        pq.define_noisy_gate(\"I\", [ghz['bob']], append_damping_to_gate(np.eye(2), damping_per_I))\n",
    "        pq.define_noisy_gate(\"I\", [ghz['charlie']], append_damping_to_gate(np.eye(2), damping_per_I))\n",
    "        pq.wrap_in_numshots_loop(trials)\n",
    "        qvm.random_seed = int(num_I)\n",
    "        res = qvm.run(address_qubits(pq), trials=trials)\n",
    "        \n",
    "        num_correct = 0\n",
    "        for a,b,c in res:\n",
    "            if reconstruction_map[(b + bob_offset, c + charlie_offset)] == a + alice_offset:\n",
    "                num_correct += 1\n",
    "        \n",
    "        results_damping.append([num_correct/trials])\n",
    "        \n",
    "    return results_damping"
   ]
  },
  {
   "cell_type": "code",
   "execution_count": 25,
   "metadata": {},
   "outputs": [
    {
     "data": {
      "image/png": "[encoded data removed]",
      "text/plain": [
       "<matplotlib.figure.Figure at 0x105f68518>"
      ]
     },
     "metadata": {
      "needs_background": "light"
     },
     "output_type": "display_data"
    }
   ],
   "source": [
    "ghz = {'alice': QubitPlaceholder(),\n",
    "       'bob' : QubitPlaceholder(),\n",
    "       'charlie' : QubitPlaceholder()}\n",
    "noisy_out = simulate_noise(ghz)\n",
    "plt.plot(range(0,301, 10), noisy_out, color='orange')\n",
    "plt.xlabel('t (arbitrary units) ')\n",
    "plt.ylabel('Percentage of correct secret key shared')\n",
    "plt.title('Bit flip over time affecting a secret')\n",
    "plt.savefig('./plots/bit_flip.png')"
   ]
  },
  {
   "cell_type": "markdown",
   "metadata": {},
   "source": [
    "### Part 2.2.2 Dephasing channel\n",
    "\n",
    "Here I show the effects of a depolarizing channel on the system. "
   ]
  },
  {
   "cell_type": "code",
   "execution_count": 26,
   "metadata": {},
   "outputs": [],
   "source": [
    "def depolarizing_channel(prob: float): \n",
    "    noisy_I = np.sqrt(1-prob) * np.asarray([[1, 0], [0, 1]])\n",
    "    noisy_X = np.sqrt(prob/3) * np.asarray([[0, 1], [1, 0]])\n",
    "    noisy_Y = np.sqrt(prob/3) * np.asarray([[0, -1j], [1j, 0]])\n",
    "    noisy_Z = np.sqrt(prob/3) * np.asarray([[1, 0], [0, -1]])\n",
    "    return [noisy_I , noisy_X , noisy_Y , noisy_Z]"
   ]
  },
  {
   "cell_type": "code",
   "execution_count": 27,
   "metadata": {},
   "outputs": [],
   "source": [
    "def simulate_noise_dephase(ghz, use_shor=False, kraus_operator=None):\n",
    "    # single step damping probability\n",
    "    damping_per_I = 0.02\n",
    "    # number of program executions\n",
    "    trials = 10000\n",
    "    dampened_encoding = []\n",
    "    results_damping = []\n",
    "    lengths = np.arange(0, 301, 10, dtype=int)\n",
    "    for jj, num_I in enumerate(lengths):\n",
    "        pq = Program()\n",
    "        ro = pq.declare('ro', 'BIT', 3)\n",
    "        \n",
    "        # 1. Alice creates the ghz state\n",
    "        pq = entangle(pq, ghz, name='alice')\n",
    "        \n",
    "        # 2. Some amount of time passes as the qubits are sent to\n",
    "        #    Bob and Charlie \n",
    "        pq.inst([I(ghz['alice']) for _ in range(num_I)])\n",
    "        pq.inst([I(ghz['bob']) for _ in range(num_I)])\n",
    "        pq.inst([I(ghz['charlie']) for _ in range(num_I)])\n",
    "        \n",
    "        # 3. Bob and charlie chose their measurement direction\n",
    "        alice_offset = bob_offset = charlie_offset = 0\n",
    "        bob_dir = random.choice([X, Y])\n",
    "        if bob_dir == Y: bob_offset = 2\n",
    "        charlie_dir = random.choice([X, Y])\n",
    "        if charlie_dir == Y: charlie_offset = 2\n",
    "            \n",
    "        # 4. They inform alice and she decides a direction based on\n",
    "        #    their parity.\n",
    "        if bob_dir == charlie_dir: alice_dir = X\n",
    "        else: \n",
    "            alice_dir = Y\n",
    "            alice_offset = 2\n",
    "            \n",
    "        # 5. They all perform their measurements. \n",
    "        pq += alice_dir(ghz['alice'])\n",
    "        pq = unentangle(pq, ghz, name='alice')\n",
    "        pq += MEASURE(ghz['alice'], ro[0])\n",
    "        pq = measurefor('bob', bob_dir, pq, ro[1], ghz)\n",
    "        pq = measurefor('charlie', charlie_dir, pq, ro[2], ghz)\n",
    "\n",
    "        # overload identity I, X, Y, and Z\n",
    "        pq.define_noisy_gate(\"I\", [ghz['bob']], append_damping_to_gate(np.eye(2), damping_per_I))\n",
    "        pq.define_noisy_gate(\"X\", [ghz['bob']], append_damping_to_gate(np.asarray([[0, 1], [1, 0]]), \n",
    "                                                                       1/np.sqrt(3)))\n",
    "        pq.define_noisy_gate(\"Y\", [ghz['bob']], append_damping_to_gate(np.asarray([[0, -1j], [-1j, 0]]), \n",
    "                                                                       1/np.sqrt(3)))\n",
    "        pq.define_noisy_gate(\"Z\", [ghz['bob']], append_damping_to_gate(np.asarray([[1, 0], [0, -1]]), \n",
    "                                                                       1/np.sqrt(3)))\n",
    "        pq.wrap_in_numshots_loop(trials)\n",
    "        qvm.random_seed = int(num_I)\n",
    "        res = qvm.run(address_qubits(pq), trials=trials)\n",
    "        \n",
    "        num_correct = 0\n",
    "        for a,b,c in res:\n",
    "            if reconstruction_map[(b + bob_offset, c + charlie_offset)] == a + alice_offset:\n",
    "                num_correct += 1\n",
    "        \n",
    "        results_damping.append([num_correct/trials])\n",
    "        \n",
    "    return results_damping"
   ]
  },
  {
   "cell_type": "code",
   "execution_count": 28,
   "metadata": {
    "scrolled": false
   },
   "outputs": [
    {
     "data": {
      "image/png": "[encoded data removed]",
      "text/plain": [
       "<matplotlib.figure.Figure at 0x10828ff98>"
      ]
     },
     "metadata": {
      "needs_background": "light"
     },
     "output_type": "display_data"
    }
   ],
   "source": [
    "ghz = {'alice': QubitPlaceholder(),\n",
    "       'bob' : QubitPlaceholder(),\n",
    "       'charlie' : QubitPlaceholder()}\n",
    "noisy_ou2t = simulate_noise_dephase(ghz)\n",
    "plt.plot(range(0,301, 10), noisy_ou2t, color='orange')\n",
    "plt.xlabel('t (arbitrary units) ')\n",
    "plt.ylabel('Percentage of correct secret key shared')\n",
    "plt.title('Phase flip over time affecting a secret')\n",
    "plt.savefig('./plots/phase_flip.png')"
   ]
  },
  {
   "cell_type": "markdown",
   "metadata": {},
   "source": [
    "We can use a shor code to potentially ablate the noise in the system."
   ]
  }
 ],
 "metadata": {
  "kernelspec": {
   "display_name": "Python 3",
   "language": "python",
   "name": "python3"
  },
  "language_info": {
   "codemirror_mode": {
    "name": "ipython",
    "version": 3
   },
   "file_extension": ".py",
   "mimetype": "text/x-python",
   "name": "python",
   "nbconvert_exporter": "python",
   "pygments_lexer": "ipython3",
   "version": "3.6.5"
  }
 },
 "nbformat": 4,
 "nbformat_minor": 2
}
